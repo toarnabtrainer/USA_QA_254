{
 "cells": [
  {
   "cell_type": "markdown",
   "id": "4354b187-9fde-4480-9cb1-3e3627ce8d31",
   "metadata": {},
   "source": [
    "### **Selenium Code Example - 3/3**"
   ]
  },
  {
   "cell_type": "markdown",
   "id": "58139db0-b596-45b8-a1b7-7ac3d9e9335e",
   "metadata": {},
   "source": [
    "### **Selenium control options to write text, button press, dropdown list, checkbox and others**"
   ]
  },
  {
   "cell_type": "code",
   "execution_count": 1,
   "id": "2ac00d3c-5831-4129-8ff3-1213fd52ccbc",
   "metadata": {},
   "outputs": [],
   "source": [
    "# importing all the required modules\n",
    "from selenium import webdriver\n",
    "from selenium.webdriver.chrome.service import Service"
   ]
  },
  {
   "cell_type": "code",
   "execution_count": 2,
   "id": "e44804d6-24cf-41c3-9b54-a39307dafa3b",
   "metadata": {},
   "outputs": [
    {
     "name": "stdout",
     "output_type": "stream",
     "text": [
      "4.10.0\n"
     ]
    }
   ],
   "source": [
    "# also checking the current version of Selenium\n",
    "print (webdriver.__version__)"
   ]
  },
  {
   "cell_type": "code",
   "execution_count": 3,
   "id": "f47551b9-8147-4a89-ab0f-143a935d09c6",
   "metadata": {},
   "outputs": [],
   "source": [
    "# as the chrome driver is in the present directory, we need not to mention any path to access it\n",
    "service = Service(executable_path='./chromedriver.exe')\n",
    "options = webdriver.ChromeOptions()\n",
    "driver = webdriver.Chrome(service = service, options = options)"
   ]
  },
  {
   "cell_type": "code",
   "execution_count": 4,
   "id": "5c6e336d-f62f-4762-836b-b259fe27b45b",
   "metadata": {},
   "outputs": [],
   "source": [
    "# now we shall go for a web portal for currency conversion\n",
    "# https://www.calculator.net/ => Click on \"All Calculators\" => Click on \"Currency Calculator\"\n",
    "driver.get(\"https://www.calculator.net/currency-calculator.html\")"
   ]
  },
  {
   "cell_type": "code",
   "execution_count": 5,
   "id": "e7caa7b9-0a45-4765-8f10-2ffca8cdddee",
   "metadata": {},
   "outputs": [],
   "source": [
    "# import Select and Checkbox from selenium library to get HTML tags\n",
    "from selenium.webdriver.support.ui import Select"
   ]
  },
  {
   "cell_type": "code",
   "execution_count": 7,
   "id": "b04d7756-dd3c-4ab8-bc26-871ce917eec4",
   "metadata": {},
   "outputs": [],
   "source": [
    "# now select the FROM currency as INR and TO currency as USD from the drop down menu\n",
    "from_currency = Select(driver.find_element(\"id\", \"efrom\"))\n",
    "from_currency.select_by_visible_text(\"INR: Indian Rupee\")   # text visible to the user"
   ]
  },
  {
   "cell_type": "code",
   "execution_count": 8,
   "id": "d3cbb5ab-5b8e-4153-b99f-c4d20950a724",
   "metadata": {},
   "outputs": [],
   "source": [
    "to_currency = Select(driver.find_element(\"id\", \"eto\"))\n",
    "to_currency.select_by_value(\"USD\")"
   ]
  },
  {
   "cell_type": "code",
   "execution_count": 10,
   "id": "c079242d-94fc-4be3-b0e4-5f3d9f3a4da4",
   "metadata": {},
   "outputs": [],
   "source": [
    "# put the amount as 500\n",
    "amount_textbox = driver.find_element(\"id\", \"eamount\")\n",
    "# clear the text field as first and then put the value there\n",
    "amount_textbox.clear()\n",
    "amount_textbox.send_keys(\"500\")"
   ]
  },
  {
   "cell_type": "code",
   "execution_count": 12,
   "id": "05822f8d-53fd-4302-a0b1-324f86d6a3d7",
   "metadata": {},
   "outputs": [],
   "source": [
    "# click on the calculate button\n",
    "calculate_button = driver.find_element('xpath', '//*[@id=\"standard\"]/tbody/tr[5]/td[2]/input[2]')\n",
    "calculate_button.click()"
   ]
  },
  {
   "cell_type": "code",
   "execution_count": 14,
   "id": "90e71b46-a6f6-42c7-8213-145c92aa8dde",
   "metadata": {},
   "outputs": [],
   "source": [
    "checkbox = driver.find_element('xpath', '//*[@id=\"ccmajorccsettingbox\"]')\n",
    "# if this checkbox is already checked the uncheck it by the help of the Java Script\n",
    "if checkbox.is_selected():\n",
    "    driver.execute_script(\"arguments[0].click()\", checkbox)"
   ]
  },
  {
   "cell_type": "code",
   "execution_count": 15,
   "id": "6df8bef4-6a89-4b03-b1cc-016a1be41672",
   "metadata": {},
   "outputs": [],
   "source": [
    "# change the from currency text to \"ZWL: Zimbabwean Dollar\"\n",
    "from_currency = Select(driver.find_element('id', 'efrom'))\n",
    "from_currency.select_by_value('ZWL')"
   ]
  },
  {
   "cell_type": "code",
   "execution_count": 16,
   "id": "6355eed6-0168-48cb-98d0-75af7e7e3f8c",
   "metadata": {},
   "outputs": [],
   "source": [
    "# change the to currency text to \"EUR\"\n",
    "to_currency = Select(driver.find_element(\"id\", \"eto\"))\n",
    "to_currency.select_by_value(\"EUR\")"
   ]
  },
  {
   "cell_type": "code",
   "execution_count": 17,
   "id": "47eb182b-6473-4896-bc8d-c1eedf8549f4",
   "metadata": {},
   "outputs": [],
   "source": [
    "# put the amount as 1000\n",
    "amount_textbox = driver.find_element(\"id\", \"eamount\")\n",
    "# clear the text field as first and then put the value there\n",
    "amount_textbox.clear()\n",
    "amount_textbox.send_keys(\"1000\")"
   ]
  },
  {
   "cell_type": "code",
   "execution_count": 18,
   "id": "b1334aa0-4582-44ca-8133-243f1473e5b8",
   "metadata": {},
   "outputs": [],
   "source": [
    "# click on the calculate button\n",
    "calculate_button = driver.find_element('xpath', '//*[@id=\"standard\"]/tbody/tr[5]/td[2]/input[2]')\n",
    "calculate_button.click()"
   ]
  },
  {
   "cell_type": "code",
   "execution_count": 19,
   "id": "1dd1f114-a742-4a34-b077-2be5ba6a6530",
   "metadata": {},
   "outputs": [],
   "source": [
    "driver.quit()"
   ]
  },
  {
   "cell_type": "code",
   "execution_count": null,
   "id": "2e37c3a0-86bf-412d-8234-f0d9e48eeb10",
   "metadata": {},
   "outputs": [],
   "source": []
  }
 ],
 "metadata": {
  "kernelspec": {
   "display_name": "Python 3 (ipykernel)",
   "language": "python",
   "name": "python3"
  },
  "language_info": {
   "codemirror_mode": {
    "name": "ipython",
    "version": 3
   },
   "file_extension": ".py",
   "mimetype": "text/x-python",
   "name": "python",
   "nbconvert_exporter": "python",
   "pygments_lexer": "ipython3",
   "version": "3.10.9"
  }
 },
 "nbformat": 4,
 "nbformat_minor": 5
}
