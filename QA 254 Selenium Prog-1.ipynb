{
 "cells": [
  {
   "cell_type": "markdown",
   "id": "284c7872-d0c3-4806-af04-385f3ea9e435",
   "metadata": {},
   "source": [
    "### Selenium Code Example - 1/3"
   ]
  },
  {
   "cell_type": "markdown",
   "id": "9e590df3-1f9d-4a0f-9af9-8e46391ab612",
   "metadata": {},
   "source": [
    "### Start Chrome Driver using executable path and start any webpage with get() function."
   ]
  },
  {
   "cell_type": "code",
   "execution_count": 1,
   "id": "1105585a-4f9d-4cac-a06f-a75502b76079",
   "metadata": {},
   "outputs": [
    {
     "name": "stdout",
     "output_type": "stream",
     "text": [
      "4.10.0\n"
     ]
    }
   ],
   "source": [
    "# importing required modules\n",
    "from selenium import webdriver\n",
    "from selenium.webdriver.chrome.service import Service\n",
    "\n",
    "# check the version of the selenium\n",
    "print (webdriver.__version__)"
   ]
  },
  {
   "cell_type": "code",
   "execution_count": 2,
   "id": "b61483de-5de0-45a5-94fe-3eba4859b733",
   "metadata": {},
   "outputs": [],
   "source": [
    "# at first check whether the chrome driver is present in the present\n",
    "# folder or not so we can access it without any path if it is in the \n",
    "# present folder, otherwise we shall have to provide valid or relative\n",
    "# path to access it.\n",
    "\n",
    "service = Service(executable_path='./chromedriver.exe')\n",
    "options = webdriver.ChromeOptions()\n",
    "driver = webdriver.Chrome(service=service, options=options)"
   ]
  },
  {
   "cell_type": "code",
   "execution_count": 3,
   "id": "b7adaeef-40a1-4df3-bbd3-e08fe21ab885",
   "metadata": {},
   "outputs": [],
   "source": [
    "# start wikipedia page\n",
    "driver.get(\"https://en.wikipedia.org/wiki/Main_Page\")"
   ]
  },
  {
   "cell_type": "code",
   "execution_count": 4,
   "id": "2b5442e4-579a-4507-85f2-fdf7f594c661",
   "metadata": {},
   "outputs": [
    {
     "name": "stdout",
     "output_type": "stream",
     "text": [
      "https://en.wikipedia.org/wiki/Main_Page\n",
      "Wikipedia, the free encyclopedia\n"
     ]
    }
   ],
   "source": [
    "# Get the current URL and current Title of the home page\n",
    "print (driver.current_url)\n",
    "print (driver.title)"
   ]
  },
  {
   "cell_type": "code",
   "execution_count": 5,
   "id": "2ce94023-5758-4650-ba79-743395a877c0",
   "metadata": {},
   "outputs": [],
   "source": [
    "# now, let us open a new web portal, e.g. Google\n",
    "driver.get('https://www.google.co.in/')"
   ]
  },
  {
   "cell_type": "code",
   "execution_count": 6,
   "id": "71e20cd3-7e05-4830-a787-70a8d3043941",
   "metadata": {},
   "outputs": [
    {
     "name": "stdout",
     "output_type": "stream",
     "text": [
      "https://www.google.co.in/\n",
      "Google\n"
     ]
    }
   ],
   "source": [
    "# Get the current URL and current Title of the home page\n",
    "print (driver.current_url)\n",
    "print (driver.title)"
   ]
  },
  {
   "cell_type": "code",
   "execution_count": 7,
   "id": "33639cde-ba54-462a-b801-b61595f062ad",
   "metadata": {},
   "outputs": [
    {
     "name": "stdout",
     "output_type": "stream",
     "text": [
      "https://en.wikipedia.org/wiki/Main_Page\n",
      "Wikipedia, the free encyclopedia\n"
     ]
    }
   ],
   "source": [
    "# now return back to the previous page with back() function\n",
    "driver.back()\n",
    "print (driver.current_url)\n",
    "print (driver.title)"
   ]
  },
  {
   "cell_type": "code",
   "execution_count": 8,
   "id": "9db59c70-2c4b-4ff6-895f-a1e31c1a8c1d",
   "metadata": {},
   "outputs": [
    {
     "name": "stdout",
     "output_type": "stream",
     "text": [
      "https://www.google.co.in/\n",
      "Google\n"
     ]
    }
   ],
   "source": [
    "# now go to the google page once again by using forward() function\n",
    "driver.forward()\n",
    "print (driver.current_url)\n",
    "print (driver.title)"
   ]
  },
  {
   "cell_type": "code",
   "execution_count": 9,
   "id": "d36de1fd-5f6e-4b22-b500-6e77aedf030e",
   "metadata": {},
   "outputs": [],
   "source": [
    "# close all the windows which were opened by the driver\n",
    "driver.quit()"
   ]
  },
  {
   "cell_type": "code",
   "execution_count": null,
   "id": "c3cc5648-5b1a-4d9b-b37d-9862e9b9cb45",
   "metadata": {},
   "outputs": [],
   "source": []
  }
 ],
 "metadata": {
  "kernelspec": {
   "display_name": "Python 3 (ipykernel)",
   "language": "python",
   "name": "python3"
  },
  "language_info": {
   "codemirror_mode": {
    "name": "ipython",
    "version": 3
   },
   "file_extension": ".py",
   "mimetype": "text/x-python",
   "name": "python",
   "nbconvert_exporter": "python",
   "pygments_lexer": "ipython3",
   "version": "3.10.9"
  }
 },
 "nbformat": 4,
 "nbformat_minor": 5
}
