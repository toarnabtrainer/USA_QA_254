{
 "cells": [
  {
   "cell_type": "markdown",
   "id": "4a39cbf1-efdb-40b6-a015-137723d24607",
   "metadata": {},
   "source": [
    "### Selenium Code Example - 1/3"
   ]
  },
  {
   "cell_type": "markdown",
   "id": "a83a1d9c-f221-4465-a32f-25cc703948a5",
   "metadata": {},
   "source": [
    "### Selenium control options to write text, button press, select menu and others"
   ]
  },
  {
   "cell_type": "code",
   "execution_count": 1,
   "id": "07eb071b-d727-4d4b-b45a-a7e3939098a0",
   "metadata": {},
   "outputs": [
    {
     "name": "stdout",
     "output_type": "stream",
     "text": [
      "4.10.0\n"
     ]
    }
   ],
   "source": [
    "# importing all required modules\n",
    "from selenium import webdriver\n",
    "from selenium.webdriver.chrome.service import Service\n",
    "\n",
    "# also check the current version of selenium\n",
    "print (webdriver.__version__)"
   ]
  },
  {
   "cell_type": "code",
   "execution_count": 2,
   "id": "83685790-5a34-4bb3-ab81-62f5a87aab25",
   "metadata": {},
   "outputs": [],
   "source": [
    "# at first check whether the chrome driver is present in the present folder\n",
    "# or not so we can access it without any path if it is in the present folder,\n",
    "# otherwise we shall have to provide valid or relative path to access it\n",
    "service = Service(executable_path='./chromedriver.exe')\n",
    "options = webdriver.ChromeOptions()\n",
    "driver = webdriver.Chrome(service=service, options=options)"
   ]
  },
  {
   "cell_type": "code",
   "execution_count": null,
   "id": "87cd7a34-5129-4ecf-85fd-ddf1a865acdd",
   "metadata": {},
   "outputs": [],
   "source": [
    "# service = Service(executable_path='/Users/user_name/Documents/Aswini/python/chromedriver_mac_arm64/chromedriver.exe')\n",
    "# options = webdriver.ChromeOptions()\n",
    "driver = webdriver.Chrome()"
   ]
  },
  {
   "cell_type": "code",
   "execution_count": 3,
   "id": "3b5abe4c-9175-48ac-b402-18feb7c2d26c",
   "metadata": {},
   "outputs": [],
   "source": [
    "# open the web portal to calculate nCr operations\n",
    "# https://www.calculatorsoup.com/ => Discrete Math => Combinations Calculator (Get the page)\n",
    "URL = 'https://www.calculatorsoup.com/calculators/discretemathematics/combinations.php'\n",
    "driver.get(URL)"
   ]
  },
  {
   "cell_type": "code",
   "execution_count": 9,
   "id": "31779acf-af54-4611-a445-b7dd702435ee",
   "metadata": {},
   "outputs": [],
   "source": [
    "n_input = driver.find_element(\"id\", \"n\")\n",
    "n_input.clear()\n",
    "n_input.send_keys(\"10\")"
   ]
  },
  {
   "cell_type": "code",
   "execution_count": 8,
   "id": "b04ae036-d945-42f9-bde3-8bdfca142788",
   "metadata": {},
   "outputs": [],
   "source": [
    "r_input = driver.find_element(\"id\", \"r\")\n",
    "r_input.clear()\n",
    "r_input.send_keys(\"8\")"
   ]
  },
  {
   "cell_type": "code",
   "execution_count": 10,
   "id": "ff9965df-c9a2-40b5-825f-fa99615aba85",
   "metadata": {},
   "outputs": [],
   "source": [
    "# to press keys, we can use the following library\n",
    "from selenium.webdriver.common.keys import Keys\n",
    "\n",
    "# press Tab to go to the next import area\n",
    "n_input.send_keys(Keys.TAB)\n",
    "\n",
    "# select currently selected input area\n",
    "r_input = driver.switch_to.active_element\n",
    "\n",
    "# put the r value inside the text box\n",
    "r_input.clear()\n",
    "r_input.send_keys(\"5\")"
   ]
  },
  {
   "cell_type": "code",
   "execution_count": 11,
   "id": "e4742702-031d-4df2-ba8c-4d0660c6e627",
   "metadata": {},
   "outputs": [],
   "source": [
    "# now go to the calculate button and click on it\n",
    "calculate_button = driver.find_element(\"id\", \"calculateButton\")\n",
    "calculate_button.click()"
   ]
  },
  {
   "cell_type": "code",
   "execution_count": 18,
   "id": "78d0580d-bd4f-4d6f-ac23-2906ff2c615c",
   "metadata": {},
   "outputs": [
    {
     "name": "stdout",
     "output_type": "stream",
     "text": [
      "['Answer:', '= 252', 'Solution:', 'C(n,r)=?', 'C', '(', ')', '?', 'C(n,r)=C(10,5)', 'C', '(', ')', 'C', '(', '10', '5', ')', '=', '10!', '(5!(10−5)!)', '10', '!', '=', '10!', '5!×5!', '10', '!', '= 252']\n",
      "Calculated answer is: 252\n"
     ]
    }
   ],
   "source": [
    "# read the answer from the result area\n",
    "result_area = driver.find_element(\"id\", 'calculatorAnswer')\n",
    "result = result_area.text\n",
    "# print (result_area.text)\n",
    "word_list = result.split(\"\\n\")\n",
    "print (word_list)\n",
    "answer = word_list[1].split(\" \")[1]\n",
    "print (\"Calculated answer is:\", answer)"
   ]
  },
  {
   "cell_type": "code",
   "execution_count": null,
   "id": "0dcb29d0-9cf8-4d18-916f-22b1590b37f1",
   "metadata": {},
   "outputs": [],
   "source": [
    "driver.qui"
   ]
  }
 ],
 "metadata": {
  "kernelspec": {
   "display_name": "Python 3 (ipykernel)",
   "language": "python",
   "name": "python3"
  },
  "language_info": {
   "codemirror_mode": {
    "name": "ipython",
    "version": 3
   },
   "file_extension": ".py",
   "mimetype": "text/x-python",
   "name": "python",
   "nbconvert_exporter": "python",
   "pygments_lexer": "ipython3",
   "version": "3.10.9"
  }
 },
 "nbformat": 4,
 "nbformat_minor": 5
}
